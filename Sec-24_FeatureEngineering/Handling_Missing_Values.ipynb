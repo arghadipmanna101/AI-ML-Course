{
 "cells": [
  {
   "cell_type": "markdown",
   "id": "05618510",
   "metadata": {},
   "source": [
    "## Missing Values :"
   ]
  },
  {
   "cell_type": "markdown",
   "id": "6d9b8d96",
   "metadata": {},
   "source": [
    "\n",
    "Missing values occurs in dataset when some of the informations is not stored for a variable. There are 3 mechanisms........"
   ]
  },
  {
   "cell_type": "markdown",
   "id": "ff2a586a",
   "metadata": {},
   "source": [
    "### 1. Missing Completely At Random [MCAR] :\n",
    "Missing completely at random is a type of missing data mechanism in which the probability of a value being missing is unrelated to both the observed data and the missing data. In other words, if the data is MCAR, the missing values are randomly distributed throughout the dataset and there is no systematic reason for why they are missing.\n",
    "For example, in a survey about the prevalence of a certain disease, the missing data might be MCAR if the survey participants with missing values for certain questions were selected randomly and their missing responses are not related to their disase status or any other variables measured in the survey."
   ]
  },
  {
   "cell_type": "markdown",
   "id": "7d2d898f",
   "metadata": {},
   "source": [
    "### 2. Missing At Random [MAR] :\n",
    "Missing at Random is a type of missing data mechanism in which the probability of a value being missing depends only on the observed data, but not on the missing data itself. In other words, if the data is MAR, the missing values are systematically related to the observed data, but not to the missing data. Here are a few examples of missing at random.\n",
    "##### - Income Data : \n",
    "Suppose you are collecting income data from a group of people, but some participants choose not to report their income. If the decision to report or not report income is related to the participant's age or gender, but not to their income level, then the data is missing at random.\n",
    "##### - Medical Data : \n",
    "Suppose you are collecting medical data on patients,including their blood pressure, but some patients do not report their blood pressure. If the patients who do not report their blood pressure are more likely to be younger or have healthier lifestyles, but the missingness is not related to their actual blood pressure values, then the data is missing at random."
   ]
  },
  {
   "cell_type": "markdown",
   "id": "13606465-5832-4c28-992c-508fa317a8e6",
   "metadata": {},
   "source": [
    "### 3. Missing Data Not At Random [MNAR] :\n",
    "It is a type of missing data mechanism where the probability of missing values depends on the value of the missing data itself. In other words, if the data is MNAR, the missingness is not random and is dependent on unobserved or unmeasured factors that are associated with the missing values.\n",
    "For example, suppose you are collecting data on the income and job satisfaction of employees in a company. If employees who are less satisfied with their jobs are more likely to refuse to report their income, then the data is not missing at random. In this case, the missingness is dependent on job satisfaction, which is not directly observed or measured."
   ]
  },
  {
   "cell_type": "code",
   "execution_count": 2,
   "id": "327c815c",
   "metadata": {},
   "outputs": [
    {
     "ename": "ModuleNotFoundError",
     "evalue": "No module named 'seaborn'",
     "output_type": "error",
     "traceback": [
      "\u001b[31m---------------------------------------------------------------------------\u001b[39m",
      "\u001b[31mModuleNotFoundError\u001b[39m                       Traceback (most recent call last)",
      "\u001b[36mCell\u001b[39m\u001b[36m \u001b[39m\u001b[32mIn[2]\u001b[39m\u001b[32m, line 1\u001b[39m\n\u001b[32m----> \u001b[39m\u001b[32m1\u001b[39m \u001b[38;5;28;01mimport\u001b[39;00m\u001b[38;5;250m \u001b[39m\u001b[34;01mseaborn\u001b[39;00m\u001b[38;5;250m \u001b[39m\u001b[38;5;28;01mas\u001b[39;00m\u001b[38;5;250m \u001b[39m\u001b[34;01msns\u001b[39;00m\n\u001b[32m      2\u001b[39m df=sns.load_dataset(\u001b[33m'\u001b[39m\u001b[33mtitanic\u001b[39m\u001b[33m'\u001b[39m)\n\u001b[32m      3\u001b[39m df.head()\n",
      "\u001b[31mModuleNotFoundError\u001b[39m: No module named 'seaborn'"
     ]
    }
   ],
   "source": [
    "\n",
    "import seaborn as sns\n",
    "df=sns.load_dataset('titanic')\n",
    "df.head()\n"
   ]
  },
  {
   "cell_type": "code",
   "execution_count": null,
   "id": "174b38b5",
   "metadata": {},
   "outputs": [],
   "source": []
  }
 ],
 "metadata": {
  "kernelspec": {
   "display_name": ".venv",
   "language": "python",
   "name": "python3"
  },
  "language_info": {
   "codemirror_mode": {
    "name": "ipython",
    "version": 3
   },
   "file_extension": ".py",
   "mimetype": "text/x-python",
   "name": "python",
   "nbconvert_exporter": "python",
   "pygments_lexer": "ipython3",
   "version": "3.11.5"
  }
 },
 "nbformat": 4,
 "nbformat_minor": 5
}
