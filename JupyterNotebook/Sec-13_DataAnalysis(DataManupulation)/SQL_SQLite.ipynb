{
 "cells": [
  {
   "cell_type": "markdown",
   "id": "5f6a3868-7eb9-4d68-bb40-7bc65d2fa23b",
   "metadata": {},
   "source": [
    "SQL And SQLite"
   ]
  },
  {
   "cell_type": "markdown",
   "id": "73541260-044e-4bdc-b402-c6539b084621",
   "metadata": {},
   "source": [
    "SQL (Structured Query Language) is a standard language for managing and manipulating relational databases. SQLite is a self-contained, serverless, and zero-configuration database engine that is widely used for embedded database systems. In this lesson, we will cover the basics of SQL and SQLite, including creating databasses, tables, and performing various SQL operations."
   ]
  },
  {
   "cell_type": "code",
   "execution_count": 2,
   "id": "7809b5c2-e37c-48d2-9fad-978c0d816912",
   "metadata": {},
   "outputs": [],
   "source": [
    "import sqlite3"
   ]
  },
  {
   "cell_type": "code",
   "execution_count": 3,
   "id": "9f8a2d9b-6556-4f6e-ae20-70727714f2a1",
   "metadata": {},
   "outputs": [
    {
     "data": {
      "text/plain": [
       "<sqlite3.Connection at 0x2f8a1bba2f0>"
      ]
     },
     "execution_count": 3,
     "metadata": {},
     "output_type": "execute_result"
    }
   ],
   "source": [
    "Connection=sqlite3.connect('Example.db')\n",
    "Connection"
   ]
  },
  {
   "cell_type": "code",
   "execution_count": 5,
   "id": "946455f9-00c4-416e-9cad-5dff88917069",
   "metadata": {},
   "outputs": [],
   "source": [
    "Cursor=connection.cursor()"
   ]
  },
  {
   "cell_type": "code",
   "execution_count": 5,
   "id": "be58ef6c-d89d-44fa-97d1-6e7266a2d18c",
   "metadata": {},
   "outputs": [],
   "source": [
    "#Create a Table \n",
    "\n",
    "Cursor.execute('''\n",
    "Create Table IF Not Exists Employees(\n",
    "    Id Integer primary key,\n",
    "    Name test not Null,\n",
    "    age Integer,\n",
    "    Department text\n",
    ")\n",
    "''')\n",
    "\n",
    "## Commit the changes\n",
    "\n",
    "connection.commit()"
   ]
  },
  {
   "cell_type": "code",
   "execution_count": 8,
   "id": "355a6b22-ff61-4be1-ae20-57fa69ee2a4c",
   "metadata": {},
   "outputs": [
    {
     "data": {
      "text/plain": [
       "<sqlite3.Cursor at 0x1402c9d1f40>"
      ]
     },
     "execution_count": 8,
     "metadata": {},
     "output_type": "execute_result"
    }
   ],
   "source": [
    "Cursor.execute('''\n",
    "Select * from Employees\n",
    "''')"
   ]
  },
  {
   "cell_type": "code",
   "execution_count": 28,
   "id": "3ca92850-ff9a-4f45-8a25-040067a7cbed",
   "metadata": {},
   "outputs": [],
   "source": [
    "## Insert the data in the sqlite table\n",
    "\n",
    "Cursor.execute('''\n",
    "    Insert Into Employees(Name,Age,Department) values('Arghadip',21,'Data Scientist')\n",
    "''')\n",
    "connection.commit()"
   ]
  },
  {
   "cell_type": "code",
   "execution_count": 29,
   "id": "4ab77b4c-b8cc-479f-95bb-23aed75f9c01",
   "metadata": {},
   "outputs": [],
   "source": [
    "Cursor.execute('''\n",
    "    Insert Into Employees(Name,Age,Department) values('Arpan',21,'Data Scientist')\n",
    "''')\n",
    "Cursor.execute('''\n",
    "    Insert Into Employees(Name,Age,Department) values('Debadrita',21,'Data Scientist')\n",
    "''')\n",
    "Cursor.execute('''\n",
    "    Insert Into Employees(Name,Age,Department) values('Sneha',21,'Data Scientist')\n",
    "''')\n",
    "connection.commit()"
   ]
  },
  {
   "cell_type": "code",
   "execution_count": 30,
   "id": "b48e4293-3cd7-4de6-83a1-183d3006307e",
   "metadata": {},
   "outputs": [
    {
     "name": "stdout",
     "output_type": "stream",
     "text": [
      "(1, 'Arghadip', 21, 'Data Scientist')\n",
      "(2, 'Arpan', 21, 'Data Scientist')\n",
      "(3, 'Debadrita', 21, 'Data Scientist')\n",
      "(4, 'Sneha', 21, 'Data Scientist')\n"
     ]
    }
   ],
   "source": [
    "## Query the data from the table\n",
    "\n",
    "Cursor.execute('''\n",
    "Select * from Employees\n",
    "''')\n",
    "rows=Cursor.fetchall()\n",
    "\n",
    "## print the queried data\n",
    "\n",
    "for row in rows:\n",
    "    print(row)"
   ]
  },
  {
   "cell_type": "code",
   "execution_count": 31,
   "id": "1116dc1e-57fd-4e5f-88c6-b4934bef0782",
   "metadata": {},
   "outputs": [],
   "source": [
    "## Update the data in the table \n",
    "\n",
    "Cursor.execute('''UPDATE Employees set age=22 where name =\"Sneha\"''')\n",
    "connection.commit()"
   ]
  },
  {
   "cell_type": "code",
   "execution_count": 33,
   "id": "bc62a581-a3ba-48b3-a4c4-8e67b98666a5",
   "metadata": {},
   "outputs": [
    {
     "name": "stdout",
     "output_type": "stream",
     "text": [
      "(1, 'Arghadip', 21, 'Data Scientist')\n",
      "(2, 'Arpan', 21, 'Data Scientist')\n",
      "(3, 'Debadrita', 21, 'Data Scientist')\n",
      "(4, 'Sneha', 22, 'Data Scientist')\n"
     ]
    }
   ],
   "source": [
    "Cursor.execute('''\n",
    "Select * from Employees\n",
    "''')\n",
    "rows=Cursor.fetchall()\n",
    "\n",
    "## print the queried data\n",
    "\n",
    "for row in rows:\n",
    "    print(row)"
   ]
  },
  {
   "cell_type": "code",
   "execution_count": 34,
   "id": "95d29ff7-47f3-49bb-a031-07b138029000",
   "metadata": {},
   "outputs": [],
   "source": [
    "Cursor.execute('''\n",
    "Delete from employees where name='Sneha'\n",
    "''')\n",
    "connection.commit()"
   ]
  },
  {
   "cell_type": "code",
   "execution_count": 35,
   "id": "c2a32746-54b1-43ce-bf65-38689176b03f",
   "metadata": {},
   "outputs": [
    {
     "name": "stdout",
     "output_type": "stream",
     "text": [
      "(1, 'Arghadip', 21, 'Data Scientist')\n",
      "(2, 'Arpan', 21, 'Data Scientist')\n",
      "(3, 'Debadrita', 21, 'Data Scientist')\n"
     ]
    }
   ],
   "source": [
    "Cursor.execute('''\n",
    "Select * from Employees\n",
    "''')\n",
    "rows=Cursor.fetchall()\n",
    "\n",
    "## print the queried data\n",
    "\n",
    "for row in rows:\n",
    "    print(row)"
   ]
  },
  {
   "cell_type": "code",
   "execution_count": 7,
   "id": "1ff1cc95-244e-43e1-8014-f13c1e0e5488",
   "metadata": {},
   "outputs": [],
   "source": [
    "connection=sqlite3.connect('sales_data.db')\n",
    "cursor=connection.cursor()\n",
    "\n",
    "#create a table for sales data\n",
    "cursor.execute('''\n",
    "    CREATE TABLE IF NOT EXISTS sales(\n",
    "        id integer primary key,\n",
    "        date text not null,\n",
    "        product text not null,\n",
    "        sales integer,\n",
    "        region text\n",
    "    )\n",
    "''')\n",
    "\n",
    "# Insert data into the sales table\n",
    "\n",
    "sales_data=[\n",
    "    ('2023-01-01','Product1',100,'North'),\n",
    "    ('2023-01-02','Product2',200,'South'),\n",
    "    ('2023-01-03','Product3',150,'East'),\n",
    "    ('2023-01-04','Product4',250,'West'),\n",
    "    ('2023-01-05','Product5',300,'North')\n",
    "]\n",
    "cursor.executemany('''\n",
    "Insert into sales(date,product,sales,region)\n",
    "    values(?,?,?,?)\n",
    "''',sales_data)\n",
    "connection.commit()"
   ]
  },
  {
   "cell_type": "code",
   "execution_count": 8,
   "id": "6eb87ca5-5565-4969-ac80-ac7cb9d724b8",
   "metadata": {},
   "outputs": [
    {
     "name": "stdout",
     "output_type": "stream",
     "text": [
      "(1, '2023-01-01', 'Product1', 100, 'North')\n",
      "(2, '2023-01-02', 'Product2', 200, 'South')\n",
      "(3, '2023-01-03', 'Product3', 150, 'East')\n",
      "(4, '2023-01-04', 'Product4', 250, 'West')\n",
      "(5, '2023-01-05', 'Product5', 300, 'North')\n"
     ]
    }
   ],
   "source": [
    "cursor.execute('''\n",
    "Select * from sales\n",
    "''')\n",
    "rows=cursor.fetchall()\n",
    "\n",
    "## print the queried data\n",
    "\n",
    "for row in rows:\n",
    "    print(row)"
   ]
  },
  {
   "cell_type": "code",
   "execution_count": 9,
   "id": "fdffe32a-c2fb-4554-ba25-767bfeaa7512",
   "metadata": {},
   "outputs": [],
   "source": [
    "connection.close()"
   ]
  },
  {
   "cell_type": "code",
   "execution_count": null,
   "id": "ee1777e6-6dd4-424b-a4c6-a74c66d484e2",
   "metadata": {},
   "outputs": [],
   "source": []
  }
 ],
 "metadata": {
  "kernelspec": {
   "display_name": ".venv",
   "language": "python",
   "name": "python3"
  },
  "language_info": {
   "codemirror_mode": {
    "name": "ipython",
    "version": 3
   },
   "file_extension": ".py",
   "mimetype": "text/x-python",
   "name": "python",
   "nbconvert_exporter": "python",
   "pygments_lexer": "ipython3",
   "version": "3.11.5"
  }
 },
 "nbformat": 4,
 "nbformat_minor": 5
}
