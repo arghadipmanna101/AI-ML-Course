{
 "cells": [
  {
   "cell_type": "code",
   "execution_count": 1,
   "id": "e899904b",
   "metadata": {},
   "outputs": [
    {
     "ename": "ModuleNotFoundError",
     "evalue": "No module named 'matplotlib'",
     "output_type": "error",
     "traceback": [
      "\u001b[31m---------------------------------------------------------------------------\u001b[39m",
      "\u001b[31mModuleNotFoundError\u001b[39m                       Traceback (most recent call last)",
      "\u001b[36mCell\u001b[39m\u001b[36m \u001b[39m\u001b[32mIn[1]\u001b[39m\u001b[32m, line 1\u001b[39m\n\u001b[32m----> \u001b[39m\u001b[32m1\u001b[39m \u001b[38;5;28;01mimport\u001b[39;00m\u001b[38;5;250m \u001b[39m\u001b[34;01mmatplotlib\u001b[39;00m\u001b[34;01m.\u001b[39;00m\u001b[34;01mpyplot\u001b[39;00m\u001b[38;5;250m \u001b[39m\u001b[38;5;28;01mas\u001b[39;00m\u001b[38;5;250m \u001b[39m\u001b[34;01mplt\u001b[39;00m\n\u001b[32m      3\u001b[39m x=[\u001b[32m1\u001b[39m,\u001b[32m2\u001b[39m,\u001b[32m3\u001b[39m,\u001b[32m4\u001b[39m,\u001b[32m5\u001b[39m]\n\u001b[32m      4\u001b[39m y1=[\u001b[32m1\u001b[39m,\u001b[32m4\u001b[39m,\u001b[32m9\u001b[39m,\u001b[32m16\u001b[39m,\u001b[32m25\u001b[39m]\n",
      "\u001b[31mModuleNotFoundError\u001b[39m: No module named 'matplotlib'"
     ]
    }
   ],
   "source": [
    "import matplotlib.pyplot as plt\n",
    "\n",
    "x=[1,2,3,4,5]\n",
    "y1=[1,4,9,16,25]\n",
    "y2=[1,2,3,4,5]\n",
    "\n",
    "plt.figure(figsize=(9,5))\n",
    "\n",
    "plt.subplot(1,2,1)\n",
    "plt.plot(x,y1,color='green')\n",
    "plt.title(\"Plot 1\")\n",
    "\n",
    "plt.subplot(1,2,2)\n",
    "plt.plot(x,y2,color='green')\n",
    "plt.title(\"Plot 2\")\n",
    "\n",
    "\n",
    "plt.subplot(2,2,3)\n",
    "plt.plot(y1,y2,color='green')\n",
    "plt.title(\"Plot 3\")\n",
    "plt.show()"
   ]
  },
  {
   "cell_type": "code",
   "execution_count": null,
   "id": "129c8caa-4549-44f3-b019-5ebd841f7bbe",
   "metadata": {},
   "outputs": [],
   "source": []
  },
  {
   "cell_type": "code",
   "execution_count": null,
   "id": "f695fb79-88dc-46e0-8467-7ec194cd053f",
   "metadata": {},
   "outputs": [],
   "source": []
  }
 ],
 "metadata": {
  "kernelspec": {
   "display_name": ".venv",
   "language": "python",
   "name": "python3"
  },
  "language_info": {
   "codemirror_mode": {
    "name": "ipython",
    "version": 3
   },
   "file_extension": ".py",
   "mimetype": "text/x-python",
   "name": "python",
   "nbconvert_exporter": "python",
   "pygments_lexer": "ipython3",
   "version": "3.11.5"
  }
 },
 "nbformat": 4,
 "nbformat_minor": 5
}
