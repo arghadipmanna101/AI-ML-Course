{
 "cells": [
  {
   "cell_type": "markdown",
   "id": "e899904b",
   "metadata": {},
   "source": [
    "import matplotlib.pyplot as plt\n",
    "\n",
    "x=[1,2,3,4,5]\n",
    "y1=[1,4,9,16,25]\n",
    "y2=[1,2,3,4,5]\n",
    "\n",
    "plt.figure(figsize=(9,5))\n",
    "\n",
    "plt.subplot(1,2,1)\n",
    "plt.plot(x,y1,color='green')\n",
    "plt.title(\"Plot 1\")\n",
    "\n",
    "plt.subplot(1,2,2)\n",
    "plt.plot(x,y2,color='green')\n",
    "plt.title(\"Plot 2\")\n",
    "\n",
    "\n",
    "plt.subplot(2,2,3)\n",
    "plt.plot(y1,y2,color='green')\n",
    "plt.title(\"Plot 3\")\n",
    "plt.show()"
   ]
  },
  {
   "cell_type": "code",
   "execution_count": null,
   "id": "129c8caa-4549-44f3-b019-5ebd841f7bbe",
   "metadata": {},
   "outputs": [],
   "source": []
  },
  {
   "cell_type": "code",
   "execution_count": null,
   "id": "f695fb79-88dc-46e0-8467-7ec194cd053f",
   "metadata": {},
   "outputs": [],
   "source": []
  }
 ],
 "metadata": {
  "kernelspec": {
   "display_name": "Python 3 (ipykernel)",
   "language": "python",
   "name": "python3"
  },
  "language_info": {
   "codemirror_mode": {
    "name": "ipython",
    "version": 3
   },
   "file_extension": ".py",
   "mimetype": "text/x-python",
   "name": "python",
   "nbconvert_exporter": "python",
   "pygments_lexer": "ipython3",
   "version": "3.11.5"
  }
 },
 "nbformat": 4,
 "nbformat_minor": 5
}
