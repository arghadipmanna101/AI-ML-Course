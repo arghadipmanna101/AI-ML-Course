{
 "cells": [
  {
   "cell_type": "markdown",
   "id": "54dc60cb",
   "metadata": {},
   "source": [
    "## Introduction to Streamlit"
   ]
  },
  {
   "cell_type": "markdown",
   "id": "3fa439ac",
   "metadata": {},
   "source": [
    "Streamlit is an open-source app framework for Machine Learning and Data Science projects. It allows you to create beautiful web applications for your machine learning and data science projects with simple python scripts."
   ]
  },
  {
   "cell_type": "code",
   "execution_count": null,
   "id": "1b3f8e80",
   "metadata": {},
   "outputs": [],
   "source": []
  }
 ],
 "metadata": {
  "kernelspec": {
   "display_name": ".venv",
   "language": "python",
   "name": "python3"
  },
  "language_info": {
   "codemirror_mode": {
    "name": "ipython",
    "version": 3
   },
   "file_extension": ".py",
   "mimetype": "text/x-python",
   "name": "python",
   "nbconvert_exporter": "python",
   "pygments_lexer": "ipython3",
   "version": "3.11.5"
  }
 },
 "nbformat": 4,
 "nbformat_minor": 5
}
