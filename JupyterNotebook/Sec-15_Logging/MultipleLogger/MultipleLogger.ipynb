{
 "cells": [
  {
   "cell_type": "markdown",
   "id": "5d94a5b1",
   "metadata": {},
   "source": [
    "Logging with Multiple Loggers"
   ]
  },
  {
   "cell_type": "markdown",
   "id": "66fc53e4",
   "metadata": {},
   "source": [
    "You can create multipe loggers for different parts of your application"
   ]
  },
  {
   "cell_type": "code",
   "execution_count": 1,
   "id": "6b1ade91",
   "metadata": {},
   "outputs": [],
   "source": [
    "import logging\n",
    "\n",
    "##create a logger for module1\n",
    "Logger1=logging.getLogger(\"module1\")\n",
    "Logger1.setLevel(logging.DEBUG)\n",
    "\n",
    "##create a logger for module2\n",
    "Logger2=logging.getLogger(\"module2\")\n",
    "Logger2.setLevel(logging.WARNING)\n",
    "\n",
    "#Configure logging settings\n",
    "logging.basicConfig(\n",
    "    level=logging.DEBUG,\n",
    "    format='%(asctime)s-%(name)s-%(levelname)s-%(message)s',\n",
    "    datefmt='%Y-%m-%d %H:%M:%S'\n",
    ")"
   ]
  },
  {
   "cell_type": "code",
   "execution_count": 2,
   "id": "f9d45e34",
   "metadata": {},
   "outputs": [
    {
     "name": "stderr",
     "output_type": "stream",
     "text": [
      "2025-02-28 20:54:05-module1-DEBUG-This is debug message for module1\n",
      "2025-02-28 20:54:05-module2-WARNING-This is debug message for module2\n",
      "2025-02-28 20:54:05-module2-ERROR-This is an error message.\n"
     ]
    }
   ],
   "source": [
    "## Log message with different loggers\n",
    "\n",
    "Logger1.debug(\"This is debug message for module1\")\n",
    "Logger2.warning(\"This is debug message for module2\")\n",
    "Logger2.error(\"This is an error message.\")"
   ]
  },
  {
   "cell_type": "code",
   "execution_count": null,
   "id": "3204a8a5",
   "metadata": {},
   "outputs": [],
   "source": []
  }
 ],
 "metadata": {
  "kernelspec": {
   "display_name": "Python 3",
   "language": "python",
   "name": "python3"
  },
  "language_info": {
   "codemirror_mode": {
    "name": "ipython",
    "version": 3
   },
   "file_extension": ".py",
   "mimetype": "text/x-python",
   "name": "python",
   "nbconvert_exporter": "python",
   "pygments_lexer": "ipython3",
   "version": "3.13.1"
  }
 },
 "nbformat": 4,
 "nbformat_minor": 5
}
