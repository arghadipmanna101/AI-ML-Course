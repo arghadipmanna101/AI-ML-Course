{
 "cells": [
  {
   "cell_type": "markdown",
   "id": "91591207-2638-4811-b567-684c2c3c8be7",
   "metadata": {},
   "source": [
    "Python Logging"
   ]
  },
  {
   "cell_type": "markdown",
   "id": "7fbef877-ea20-4974-b204-3b4650376f88",
   "metadata": {},
   "source": [
    "Logging is a crucial aspect of any application, providing a way to track events, errors, and operational information. Python's built-in logging module offers a flexible framework for emitting log messages from Python programs. In this lesson, we will cover the basics of logging, including how to configure logging, including how to configure logging, log levels, and best practices for using logging in Python applications."
   ]
  },
  {
   "cell_type": "code",
   "execution_count": 1,
   "id": "5a70695d-0213-4702-9db1-266950928890",
   "metadata": {},
   "outputs": [],
   "source": [
    "import logging"
   ]
  },
  {
   "cell_type": "code",
   "execution_count": 6,
   "id": "1d74e269-6b90-49c4-a4c4-0fa9fe8aeafe",
   "metadata": {},
   "outputs": [
    {
     "name": "stderr",
     "output_type": "stream",
     "text": [
      "DEBUG:root:This is a debug message\n",
      "INFO:root:This is a info message\n",
      "WARNING:root:This is a warning message\n",
      "ERROR:root:This is a error message\n",
      "CRITICAL:root:This is a critical message\n"
     ]
    }
   ],
   "source": [
    "# Configure the basic logging settings\n",
    "logging.basicConfig(level=logging.DEBUG)\n",
    "\n",
    "# Log messages with different severity levels\n",
    "logging.debug(\"This is a debug message\")\n",
    "logging.info(\"This is a info message\")\n",
    "logging.warning(\"This is a warning message\")\n",
    "logging.error(\"This is a error message\")\n",
    "logging.critical(\"This is a critical message\")\n",
    "\n"
   ]
  },
  {
   "cell_type": "markdown",
   "id": "4f6ff0eb-b084-46dc-b045-9816f4872402",
   "metadata": {},
   "source": [
    "Log Levels\n",
    "-"
   ]
  },
  {
   "cell_type": "markdown",
   "id": "3cdddf87-ebbc-4c1e-a527-998957302864",
   "metadata": {},
   "source": [
    "python's logging module has several log levels indicating the severity of events. The default levels are :\n",
    "\n",
    "- DEBUG : Detailed information, typically of interest only when diagnosing problems.\n",
    "- INGO : Confirmation that things are working as expected.\n",
    "- WARNING : An indication that something unexpected happened or indicative of some problem in the near future (e.g., 'disk space low'). The software is still working as expected.\n",
    "- ERROR : Due to a more serious problem, the software has not been able to perform some function.\n",
    "- CRITICAL : A very serious error, indicating that the program itself may be unable to continue running."
   ]
  },
  {
   "cell_type": "code",
   "execution_count": null,
   "id": "c168973b-c9e5-4d34-81b1-9a2ba59f60d8",
   "metadata": {},
   "outputs": [],
   "source": [
    "## C'onfiguring logging\n",
    "\n",
    "import logging\n",
    "\n",
    "logging.basicConfig(\n",
    "    filename='app.log',\n",
    "    filemode='w',\n",
    "    level=logging.DEBUG,\n",
    "    format='%(asctime)s-%(name)s-%(levelname)s-%(message)s',\n",
    "    datefmt='%Y-%m-%d %H:%M:%S'\n",
    ")\n",
    "# Log messages with different severity levels\n",
    "logging.debug(\"This is a debug message\")\n",
    "logging.info(\"This is a info message\")\n",
    "logging.warning(\"This is a warning message\")\n",
    "logging.error(\"This is a error message\")\n",
    "logging.critical(\"This is a critical message\")\n"
   ]
  },
  {
   "cell_type": "code",
   "execution_count": null,
   "id": "22f634c5-6629-4ef5-b099-4d2736e3c28a",
   "metadata": {},
   "outputs": [],
   "source": []
  }
 ],
 "metadata": {
  "kernelspec": {
   "display_name": "Python 3",
   "language": "python",
   "name": "python3"
  },
  "language_info": {
   "codemirror_mode": {
    "name": "ipython",
    "version": 3
   },
   "file_extension": ".py",
   "mimetype": "text/x-python",
   "name": "python",
   "nbconvert_exporter": "python",
   "pygments_lexer": "ipython3",
   "version": "3.13.1"
  }
 },
 "nbformat": 4,
 "nbformat_minor": 5
}
