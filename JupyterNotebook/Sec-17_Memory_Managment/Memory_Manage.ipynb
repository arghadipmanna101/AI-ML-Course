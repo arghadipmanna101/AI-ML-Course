{
 "cells": [
  {
   "cell_type": "markdown",
   "id": "ac32fc4f-291a-449b-8936-2b8d02258149",
   "metadata": {},
   "source": [
    "## Memory management \n",
    "It is python involves a combination of automatic garbage collection, reference counting, and various internal optimizations to efficiently manage memory allocation and deallocation. Understanding these mechanisms can help developers write more efficient and robust applications.\n"
   ]
  },
  {
   "cell_type": "markdown",
   "id": "916ff2b2-6e79-4438-b455-dc5accaec3c6",
   "metadata": {},
   "source": [
    "    1. Key concepts in python memory management\n",
    "    2. Memory allocation and deallocation\n",
    "    3. Reference counting\n",
    "    4. Garbage collection \n",
    "    5. The gc medule\n",
    "    6. Memory management best practices"
   ]
  },
  {
   "cell_type": "markdown",
   "id": "e631f654-cf96-47b2-a6aa-c1b714f7dead",
   "metadata": {},
   "source": [
    "### Reference Counting\n",
    "\n",
    "Reference counting is the primary method python uses to manage memory. Each object in python maintains a count of references pointing to it. When the reference count drops the zero, the memory occupied by the object is deallocated."
   ]
  },
  {
   "cell_type": "code",
   "execution_count": 1,
   "id": "f7edd962-fb16-45c4-b92a-e53787400c92",
   "metadata": {},
   "outputs": [
    {
     "name": "stdout",
     "output_type": "stream",
     "text": [
      "2\n"
     ]
    }
   ],
   "source": [
    "import sys\n",
    "\n",
    "a=[]\n",
    "## 2 (one reference from 'a' and one getrefcout())\n",
    "print(sys.getrefcount(a))"
   ]
  },
  {
   "cell_type": "code",
   "execution_count": 3,
   "id": "ebfe7b5d",
   "metadata": {},
   "outputs": [
    {
     "name": "stdout",
     "output_type": "stream",
     "text": [
      "3\n"
     ]
    }
   ],
   "source": [
    "b=a\n",
    "print(sys.getrefcount(b))"
   ]
  },
  {
   "cell_type": "code",
   "execution_count": 4,
   "id": "e34390e9",
   "metadata": {},
   "outputs": [
    {
     "name": "stdout",
     "output_type": "stream",
     "text": [
      "2\n"
     ]
    }
   ],
   "source": [
    "del b\n",
    "print(sys.getrefcount(a))"
   ]
  },
  {
   "cell_type": "code",
   "execution_count": 6,
   "id": "a5a3b3a1",
   "metadata": {},
   "outputs": [
    {
     "ename": "NameError",
     "evalue": "name 'b' is not defined",
     "output_type": "error",
     "traceback": [
      "\u001b[1;31m---------------------------------------------------------------------------\u001b[0m",
      "\u001b[1;31mNameError\u001b[0m                                 Traceback (most recent call last)",
      "Cell \u001b[1;32mIn[6], line 1\u001b[0m\n\u001b[1;32m----> 1\u001b[0m \u001b[38;5;28mprint\u001b[39m(sys\u001b[38;5;241m.\u001b[39mgetrefcount(\u001b[43mb\u001b[49m))\n",
      "\u001b[1;31mNameError\u001b[0m: name 'b' is not defined"
     ]
    }
   ],
   "source": [
    "print(sys.getrefcount(b))"
   ]
  },
  {
   "cell_type": "markdown",
   "id": "0085aa17",
   "metadata": {},
   "source": [
    "#### Garbage Collection\n",
    "Python includes a cyclic garbage collector to handle reference cycles. Reference cycles occur when objects reference each other, preventing their reference counts from reaching zero."
   ]
  },
  {
   "cell_type": "code",
   "execution_count": 26,
   "id": "7b70cfc6",
   "metadata": {},
   "outputs": [],
   "source": [
    "import gc"
   ]
  },
  {
   "cell_type": "code",
   "execution_count": 27,
   "id": "afc76454",
   "metadata": {},
   "outputs": [],
   "source": [
    "# Enable garbage collection\n",
    "gc.enable()"
   ]
  },
  {
   "cell_type": "code",
   "execution_count": 28,
   "id": "8293b459",
   "metadata": {},
   "outputs": [],
   "source": [
    "gc.disable()"
   ]
  },
  {
   "cell_type": "code",
   "execution_count": 29,
   "id": "1a29c515",
   "metadata": {},
   "outputs": [
    {
     "data": {
      "text/plain": [
       "0"
      ]
     },
     "execution_count": 29,
     "metadata": {},
     "output_type": "execute_result"
    }
   ],
   "source": [
    "gc.collect()"
   ]
  },
  {
   "cell_type": "code",
   "execution_count": 30,
   "id": "222175cf",
   "metadata": {},
   "outputs": [
    {
     "name": "stdout",
     "output_type": "stream",
     "text": [
      "[{'collections': 67, 'collected': 2059, 'uncollectable': 0}, {'collections': 6, 'collected': 119, 'uncollectable': 0}, {'collections': 6, 'collected': 1861, 'uncollectable': 0}]\n"
     ]
    }
   ],
   "source": [
    "## Get garbage collection stats\n",
    "print(gc.get_stats())"
   ]
  },
  {
   "cell_type": "code",
   "execution_count": 31,
   "id": "fdfa7c06",
   "metadata": {},
   "outputs": [
    {
     "name": "stdout",
     "output_type": "stream",
     "text": [
      "[]\n"
     ]
    }
   ],
   "source": [
    "## Get unreachable objects\n",
    "print(gc.garbage)"
   ]
  },
  {
   "cell_type": "markdown",
   "id": "4077f7a5",
   "metadata": {},
   "source": [
    "#### Memory Management Best Practices\n",
    "1. Use local variables : Local veriables have a shorter lifespan and are freed sooner than global variables.\n",
    "2. Avoid Circular References : Circular references can lead to memory leaks if not properly managed.\n",
    "3. Use Generators : Generators produce items one at a time and only keep one item in memory at a time, making them memory efficient.\n",
    "4. Explicitly Delete Objects : Use the del statement to delete variables and objects explicitly.\n",
    "5. Profile Memoty Usage : Use memory profiling tools like tracemalloc and memory profilet to identify memory leaks and optimize memoty usage.\n",
    "\n"
   ]
  },
  {
   "cell_type": "code",
   "execution_count": 3,
   "id": "0031ecc6",
   "metadata": {},
   "outputs": [
    {
     "name": "stdout",
     "output_type": "stream",
     "text": [
      "Object obj1 created\n",
      "Object obj2 created\n",
      "Object obj1 deleted\n",
      "Object obj2 deleted\n"
     ]
    },
    {
     "data": {
      "text/plain": [
       "14"
      ]
     },
     "execution_count": 3,
     "metadata": {},
     "output_type": "execute_result"
    }
   ],
   "source": [
    "# Handled Circular reference\n",
    "\n",
    "import gc\n",
    "\n",
    "class MyObject:\n",
    "    def __init__(self,name):\n",
    "        self.name=name\n",
    "        print(f\"Object {self.name} created\")\n",
    "        \n",
    "    def __del__(self):\n",
    "        print(f\"Object {self.name} deleted\")\n",
    "        \n",
    "## Create circular referene\n",
    "obj1=MyObject(\"obj1\")\n",
    "obj2=MyObject(\"obj2\")\n",
    "\n",
    "obj1.ref=obj2\n",
    "obj2.ref=obj1\n",
    "\n",
    "del obj1\n",
    "del obj2\n",
    "\n",
    "# Manually trigger the garbage collection\n",
    "gc.collect()"
   ]
  },
  {
   "cell_type": "markdown",
   "id": "ea3b907e",
   "metadata": {},
   "source": [
    "#### Generators for memory efficiency \n",
    "Generators allow you to produce items one at a time, using memory efficiently by only keeping one item in memoty at a time."
   ]
  },
  {
   "cell_type": "code",
   "execution_count": 2,
   "id": "6db9fe44",
   "metadata": {},
   "outputs": [
    {
     "name": "stdout",
     "output_type": "stream",
     "text": [
      "0\n",
      "1\n",
      "2\n",
      "3\n",
      "4\n",
      "5\n",
      "6\n",
      "7\n",
      "8\n",
      "9\n",
      "10\n",
      "11\n"
     ]
    }
   ],
   "source": [
    "def generate_numbers(n):\n",
    "    for i in range(n):\n",
    "        yield i\n",
    "        \n",
    "for num in generate_numbers(100000):\n",
    "    print(num)\n",
    "    if num>10:\n",
    "        break\n",
    "    "
   ]
  },
  {
   "cell_type": "code",
   "execution_count": 4,
   "id": "fe286f96",
   "metadata": {},
   "outputs": [
    {
     "name": "stdout",
     "output_type": "stream",
     "text": [
      "[Top 10]\n",
      "C:\\Users\\Arghadip Manna\\AppData\\Local\\Temp\\ipykernel_26280\\97502108.py:4: size=3899 KiB, count=99744, average=40 B\n",
      "C:\\Users\\Arghadip Manna\\AppData\\Roaming\\Python\\Python311\\site-packages\\traitlets\\traitlets.py:731: size=147 B, count=2, average=74 B\n",
      "C:\\Program Files\\Python311\\Lib\\threading.py:313: size=120 B, count=2, average=60 B\n",
      "C:\\Users\\Arghadip Manna\\AppData\\Roaming\\Python\\Python311\\site-packages\\traitlets\\traitlets.py:1514: size=120 B, count=1, average=120 B\n",
      "C:\\Users\\Arghadip Manna\\AppData\\Roaming\\Python\\Python311\\site-packages\\traitlets\\traitlets.py:1543: size=72 B, count=1, average=72 B\n",
      "C:\\Program Files\\Python311\\Lib\\threading.py:619: size=64 B, count=1, average=64 B\n"
     ]
    }
   ],
   "source": [
    "import tracemalloc\n",
    "\n",
    "def create_list():\n",
    "    return [i for i in range(100000)]\n",
    "\n",
    "def main():\n",
    "    tracemalloc.start()\n",
    "    \n",
    "    lst = create_list()  # Store the list to analyze memory usage\n",
    "    \n",
    "    snapshot = tracemalloc.take_snapshot()\n",
    "    top_stats = snapshot.statistics('lineno')\n",
    "\n",
    "    print(\"[Top 10]\")\n",
    "    for stat in top_stats[:10]:  # Print only the top 10 statistics\n",
    "        print(stat)\n",
    "\n",
    "main()\n"
   ]
  },
  {
   "cell_type": "code",
   "execution_count": null,
   "id": "02e9f6bd",
   "metadata": {},
   "outputs": [],
   "source": []
  }
 ],
 "metadata": {
  "kernelspec": {
   "display_name": "Python 3 (ipykernel)",
   "language": "python",
   "name": "python3"
  },
  "language_info": {
   "codemirror_mode": {
    "name": "ipython",
    "version": 3
   },
   "file_extension": ".py",
   "mimetype": "text/x-python",
   "name": "python",
   "nbconvert_exporter": "python",
   "pygments_lexer": "ipython3",
   "version": "3.11.5"
  }
 },
 "nbformat": 4,
 "nbformat_minor": 5
}
